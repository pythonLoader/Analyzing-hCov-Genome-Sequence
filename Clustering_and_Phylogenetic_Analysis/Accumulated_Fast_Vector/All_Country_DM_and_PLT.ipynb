{
 "cells": [
  {
   "cell_type": "code",
   "execution_count": 1,
   "metadata": {},
   "outputs": [],
   "source": [
    "import pandas as pd \n",
    "import numpy as np \n",
    "from pprint import pprint\n",
    "import matplotlib.pyplot as plt\n",
    "import sys,os"
   ]
  },
  {
   "cell_type": "code",
   "execution_count": 3,
   "metadata": {},
   "outputs": [
    {
     "output_type": "stream",
     "name": "stdout",
     "text": "working with-> Algeria\ncenter EPI_ISL_420037\nworking with-> Argentina\ncenter EPI_ISL_420598\nworking with-> Australia\ncenter EPI_ISL_416517\nworking with-> Austria\ncenter EPI_ISL_419669\nworking with-> Bangladesh\ncenter EPI_ISL_445215\nworking with-> Belarus\ncenter EPI_ISL_419693\nworking with-> Belgium\ncenter EPI_ISL_420338\nworking with-> Brazil\ncenter EPI_ISL_417034\nworking with-> Cambodia\ncenter EPI_ISL_411902\nworking with-> Canada\ncenter EPI_ISL_418378\nworking with-> Chile\ncenter EPI_ISL_414578\nworking with-> China\ncenter EPI_ISL_402131\nworking with-> Colombia\ncenter EPI_ISL_418262\nworking with-> Czech Republic\ncenter EPI_ISL_426051\nworking with-> Democratic Republic of the Congo\ncenter EPI_ISL_420848\nworking with-> Ecuador\ncenter EPI_ISL_422563\nworking with-> England\ncenter EPI_ISL_423433\nworking with-> Estonia\ncenter EPI_ISL_420066\nworking with-> Finland\ncenter EPI_ISL_418405\nworking with-> France\ncenter EPI_ISL_419177\nworking with-> Georgia\ncenter EPI_ISL_415644\nworking with-> Ghana\ncenter EPI_ISL_422394\nworking with-> Greece\ncenter EPI_ISL_418264\nworking with-> Hong Kong\ncenter EPI_ISL_419242\nworking with-> Hungary\ncenter EPI_ISL_416426\nworking with-> Iceland\ncenter EPI_ISL_417608\nworking with-> India\ncenter EPI_ISL_426424\nworking with-> Iran\ncenter EPI_ISL_424349\nworking with-> Ireland\ncenter EPI_ISL_418581\nworking with-> Israel\ncenter EPI_ISL_419210\nworking with-> Italy\ncenter EPI_ISL_418259\nworking with-> Japan\ncenter EPI_ISL_416568\nworking with-> Korea\ncenter EPI_ISL_426164\nworking with-> Kuwait\ncenter EPI_ISL_416542\nworking with-> Latvia\ncenter EPI_ISL_421654\nworking with-> Lithuania\ncenter EPI_ISL_416741\nworking with-> Luxembourg\ncenter EPI_ISL_419592\nworking with-> Malaysia\ncenter EPI_ISL_416884\nworking with-> Mexico\ncenter EPI_ISL_424626\nworking with-> Nepal\ncenter EPI_ISL_410301\nworking with-> Netherlands\ncenter EPI_ISL_413574\nworking with-> New Zealand\ncenter EPI_ISL_416520\nworking with-> Nigeria\ncenter EPI_ISL_413550\nworking with-> Norway\ncenter EPI_ISL_420137\nworking with-> Pakistan\ncenter EPI_ISL_417444\nworking with-> Denmark\ncenter EPI_ISL_415648\nworking with-> Germany\ncenter EPI_ISL_414508\nworking with-> Panama\ncenter EPI_ISL_415152\nworking with-> Peru\ncenter EPI_ISL_415787\nworking with-> Poland\ncenter EPI_ISL_428232\nworking with-> Portugal\ncenter EPI_ISL_417990\nworking with-> Qatar\ncenter EPI_ISL_427411\nworking with-> Refseq\ncenter NC_045512\n"
    },
    {
     "output_type": "error",
     "ename": "KeyError",
     "evalue": "\"['Collection date', 'Virus name'] not in index\"",
     "traceback": [
      "\u001b[0;31m---------------------------------------------------------------------------\u001b[0m",
      "\u001b[0;31mKeyError\u001b[0m                                  Traceback (most recent call last)",
      "\u001b[0;32m<ipython-input-3-c5b6393440f0>\u001b[0m in \u001b[0;36m<module>\u001b[0;34m\u001b[0m\n\u001b[1;32m     37\u001b[0m         \u001b[0mfinal_df\u001b[0m \u001b[0;34m=\u001b[0m \u001b[0mpd\u001b[0m\u001b[0;34m.\u001b[0m\u001b[0mmerge\u001b[0m\u001b[0;34m(\u001b[0m\u001b[0mfinal_df_1\u001b[0m\u001b[0;34m,\u001b[0m \u001b[0mfinal_df_2\u001b[0m\u001b[0;34m,\u001b[0m \u001b[0mon\u001b[0m\u001b[0;34m=\u001b[0m\u001b[0;34m'Accession ID'\u001b[0m\u001b[0;34m)\u001b[0m\u001b[0;34m\u001b[0m\u001b[0;34m\u001b[0m\u001b[0m\n\u001b[1;32m     38\u001b[0m         \u001b[0mfinal_df\u001b[0m\u001b[0;34m[\u001b[0m\u001b[0;34m\"Country\"\u001b[0m\u001b[0;34m]\u001b[0m \u001b[0;34m=\u001b[0m \u001b[0mcont_\u001b[0m\u001b[0;34m\u001b[0m\u001b[0;34m\u001b[0m\u001b[0m\n\u001b[0;32m---> 39\u001b[0;31m         \u001b[0mfinal_df\u001b[0m \u001b[0;34m=\u001b[0m \u001b[0mfinal_df\u001b[0m\u001b[0;34m[\u001b[0m\u001b[0mcols\u001b[0m\u001b[0;34m]\u001b[0m\u001b[0;34m\u001b[0m\u001b[0;34m\u001b[0m\u001b[0m\n\u001b[0m\u001b[1;32m     40\u001b[0m         \u001b[0mdf_list\u001b[0m\u001b[0;34m.\u001b[0m\u001b[0mappend\u001b[0m\u001b[0;34m(\u001b[0m\u001b[0mfinal_df\u001b[0m\u001b[0;34m)\u001b[0m\u001b[0;34m\u001b[0m\u001b[0;34m\u001b[0m\u001b[0m\n\u001b[1;32m     41\u001b[0m \u001b[0;34m\u001b[0m\u001b[0m\n",
      "\u001b[0;32m~/.local/lib/python3.7/site-packages/pandas/core/frame.py\u001b[0m in \u001b[0;36m__getitem__\u001b[0;34m(self, key)\u001b[0m\n\u001b[1;32m   2804\u001b[0m             \u001b[0;32mif\u001b[0m \u001b[0mis_iterator\u001b[0m\u001b[0;34m(\u001b[0m\u001b[0mkey\u001b[0m\u001b[0;34m)\u001b[0m\u001b[0;34m:\u001b[0m\u001b[0;34m\u001b[0m\u001b[0;34m\u001b[0m\u001b[0m\n\u001b[1;32m   2805\u001b[0m                 \u001b[0mkey\u001b[0m \u001b[0;34m=\u001b[0m \u001b[0mlist\u001b[0m\u001b[0;34m(\u001b[0m\u001b[0mkey\u001b[0m\u001b[0;34m)\u001b[0m\u001b[0;34m\u001b[0m\u001b[0;34m\u001b[0m\u001b[0m\n\u001b[0;32m-> 2806\u001b[0;31m             \u001b[0mindexer\u001b[0m \u001b[0;34m=\u001b[0m \u001b[0mself\u001b[0m\u001b[0;34m.\u001b[0m\u001b[0mloc\u001b[0m\u001b[0;34m.\u001b[0m\u001b[0m_get_listlike_indexer\u001b[0m\u001b[0;34m(\u001b[0m\u001b[0mkey\u001b[0m\u001b[0;34m,\u001b[0m \u001b[0maxis\u001b[0m\u001b[0;34m=\u001b[0m\u001b[0;36m1\u001b[0m\u001b[0;34m,\u001b[0m \u001b[0mraise_missing\u001b[0m\u001b[0;34m=\u001b[0m\u001b[0;32mTrue\u001b[0m\u001b[0;34m)\u001b[0m\u001b[0;34m[\u001b[0m\u001b[0;36m1\u001b[0m\u001b[0;34m]\u001b[0m\u001b[0;34m\u001b[0m\u001b[0;34m\u001b[0m\u001b[0m\n\u001b[0m\u001b[1;32m   2807\u001b[0m \u001b[0;34m\u001b[0m\u001b[0m\n\u001b[1;32m   2808\u001b[0m         \u001b[0;31m# take() does not accept boolean indexers\u001b[0m\u001b[0;34m\u001b[0m\u001b[0;34m\u001b[0m\u001b[0;34m\u001b[0m\u001b[0m\n",
      "\u001b[0;32m~/.local/lib/python3.7/site-packages/pandas/core/indexing.py\u001b[0m in \u001b[0;36m_get_listlike_indexer\u001b[0;34m(self, key, axis, raise_missing)\u001b[0m\n\u001b[1;32m   1551\u001b[0m \u001b[0;34m\u001b[0m\u001b[0m\n\u001b[1;32m   1552\u001b[0m         self._validate_read_indexer(\n\u001b[0;32m-> 1553\u001b[0;31m             \u001b[0mkeyarr\u001b[0m\u001b[0;34m,\u001b[0m \u001b[0mindexer\u001b[0m\u001b[0;34m,\u001b[0m \u001b[0mo\u001b[0m\u001b[0;34m.\u001b[0m\u001b[0m_get_axis_number\u001b[0m\u001b[0;34m(\u001b[0m\u001b[0maxis\u001b[0m\u001b[0;34m)\u001b[0m\u001b[0;34m,\u001b[0m \u001b[0mraise_missing\u001b[0m\u001b[0;34m=\u001b[0m\u001b[0mraise_missing\u001b[0m\u001b[0;34m\u001b[0m\u001b[0;34m\u001b[0m\u001b[0m\n\u001b[0m\u001b[1;32m   1554\u001b[0m         )\n\u001b[1;32m   1555\u001b[0m         \u001b[0;32mreturn\u001b[0m \u001b[0mkeyarr\u001b[0m\u001b[0;34m,\u001b[0m \u001b[0mindexer\u001b[0m\u001b[0;34m\u001b[0m\u001b[0;34m\u001b[0m\u001b[0m\n",
      "\u001b[0;32m~/.local/lib/python3.7/site-packages/pandas/core/indexing.py\u001b[0m in \u001b[0;36m_validate_read_indexer\u001b[0;34m(self, key, indexer, axis, raise_missing)\u001b[0m\n\u001b[1;32m   1644\u001b[0m             \u001b[0;32mif\u001b[0m \u001b[0;32mnot\u001b[0m \u001b[0;34m(\u001b[0m\u001b[0mself\u001b[0m\u001b[0;34m.\u001b[0m\u001b[0mname\u001b[0m \u001b[0;34m==\u001b[0m \u001b[0;34m\"loc\"\u001b[0m \u001b[0;32mand\u001b[0m \u001b[0;32mnot\u001b[0m \u001b[0mraise_missing\u001b[0m\u001b[0;34m)\u001b[0m\u001b[0;34m:\u001b[0m\u001b[0;34m\u001b[0m\u001b[0;34m\u001b[0m\u001b[0m\n\u001b[1;32m   1645\u001b[0m                 \u001b[0mnot_found\u001b[0m \u001b[0;34m=\u001b[0m \u001b[0mlist\u001b[0m\u001b[0;34m(\u001b[0m\u001b[0mset\u001b[0m\u001b[0;34m(\u001b[0m\u001b[0mkey\u001b[0m\u001b[0;34m)\u001b[0m \u001b[0;34m-\u001b[0m \u001b[0mset\u001b[0m\u001b[0;34m(\u001b[0m\u001b[0max\u001b[0m\u001b[0;34m)\u001b[0m\u001b[0;34m)\u001b[0m\u001b[0;34m\u001b[0m\u001b[0;34m\u001b[0m\u001b[0m\n\u001b[0;32m-> 1646\u001b[0;31m                 \u001b[0;32mraise\u001b[0m \u001b[0mKeyError\u001b[0m\u001b[0;34m(\u001b[0m\u001b[0;34mf\"{not_found} not in index\"\u001b[0m\u001b[0;34m)\u001b[0m\u001b[0;34m\u001b[0m\u001b[0;34m\u001b[0m\u001b[0m\n\u001b[0m\u001b[1;32m   1647\u001b[0m \u001b[0;34m\u001b[0m\u001b[0m\n\u001b[1;32m   1648\u001b[0m             \u001b[0;31m# we skip the warning on Categorical/Interval\u001b[0m\u001b[0;34m\u001b[0m\u001b[0;34m\u001b[0m\u001b[0;34m\u001b[0m\u001b[0m\n",
      "\u001b[0;31mKeyError\u001b[0m: \"['Collection date', 'Virus name'] not in index\""
     ]
    }
   ],
   "source": [
    "direc = 'All_Countries_Representative_Seq'\n",
    "Other_Info_File = \"All_Train_Test_Gisaid.csv\"\n",
    "\n",
    "ACC_VECTS_direc = 'All_Countries_NFV_Vects'\n",
    "Other_Info_df = pd.read_csv(Other_Info_File)\n",
    "Other_Info_df_2 = pd.read_csv(\"gisaid_new_data.csv\")\n",
    "ref_seq_df = pd.read_csv(\"All_Countries_Splitted/Ref_seq.csv\")\n",
    "df_list = []\n",
    "# cols = ['Country','Accession ID', 'Fast Vector', 'Virus name', 'Location',\n",
    "#        'Collection date', 'Death', 'Indicator', 'Sequence']\n",
    "cols = ['Country','Accession ID', 'Fast Vector', 'Virus name', 'Location',\n",
    "       'Collection date', 'Sequence']\n",
    "for file_ in os.listdir(direc):\n",
    "    typ = file_.split(\".\")[1]\n",
    "    if(typ == 'txt'):\n",
    "        cont_ = file_.split(\"_\")[0]\n",
    "        print(\"working with->\",cont_)\n",
    "        Vect_file = ACC_VECTS_direc +\"/\"+cont_+\"_Novel_Fast_vector.csv\"\n",
    "        c_fl = open(direc+\"/\"+file_,\"r\")\n",
    "        center_id = c_fl.read()\n",
    "        print(\"center\",center_id)\n",
    "        Fast_vector_df = pd.read_csv(Vect_file)\n",
    "\n",
    "        final_df_1 = Fast_vector_df.loc[Fast_vector_df[\"Accession ID\"] == center_id]\n",
    "        final_df_2 = Other_Info_df.loc[Other_Info_df[\"Accession ID\"] == center_id]\n",
    "        # print()\n",
    "        if(final_df_2.shape[0] == 0):\n",
    "            final_df_2 = Other_Info_df_2[Other_Info_df_2[\"Accession ID\"] == center_id]\n",
    "        if(final_df_2.shape[0] == 0):\n",
    "            final_df_2 = ref_seq_df[ref_seq_df[\"Accession ID\"] == center_id]\n",
    "        if(cont_ == \"United Kingdom\" or cont_ == \"Korea\"):\n",
    "            continue\n",
    "        # frame = {'Accession ID':pd.Series(center_id),'Country':pd.Series(cont_)}\n",
    "        # final_df_3 = pd.DataFrame(frame)\n",
    "        # print(final_df_1.shape)\n",
    "        # print(final_df_2.shape)\n",
    "        final_df = pd.merge(final_df_1, final_df_2, on='Accession ID')\n",
    "        final_df[\"Country\"] = cont_\n",
    "        final_df = final_df[cols]\n",
    "        df_list.append(final_df)\n",
    "\n",
    "f_df = pd.concat(df_list,ignore_index=True)\n",
    "print(f_df.shape)"
   ]
  },
  {
   "cell_type": "code",
   "execution_count": 15,
   "metadata": {},
   "outputs": [
    {
     "output_type": "stream",
     "name": "stdout",
     "text": "Index(['Country', 'Accession ID', 'Fast Vector', 'Virus name', 'Location',\n       'Collection date', 'Sequence'],\n      dtype='object')\n"
    }
   ],
   "source": [
    "print(f_df.columns)\n",
    "f_df.to_csv(\"All_country_representative_seq_info.csv\",index=False)"
   ]
  },
  {
   "cell_type": "code",
   "execution_count": 16,
   "metadata": {},
   "outputs": [
    {
     "output_type": "stream",
     "name": "stdout",
     "text": "83\n['Algeria' 'Argentina' 'Australia' 'Austria' 'Bangladesh' 'Belarus'\n 'Belgium' 'Brazil' 'Brunei' 'Cambodia' 'Canada' 'Israel' 'Italy' 'Japan'\n 'Jordan' 'Kazakhstan' 'Kuwait' 'Latvia' 'Lithuania' 'Luxembourg'\n 'Malaysia' 'Spain' 'Sri Lanka' 'Sweden' 'Switzerland' 'Taiwan' 'Thailand'\n 'Turkey' 'United Arab Emirates' 'Uruguay' 'USA' 'Vietnam' '\\u200eRomania'\n 'Finland' 'France' 'Gambia' 'Georgia' 'Germany' 'Ghana' 'Greece'\n 'Estonia' 'Ireland' 'Mexico' 'Poland' 'South Korea' 'Portugal' 'Qatar'\n 'Romania' 'Russia' 'Saudi Arabia' 'Senegal' 'Serbia' 'Singapore'\n 'Slovakia' 'Slovenia' 'South Africa' 'Myanmar' 'Nepal' 'Netherlands'\n 'New Zealand' 'Nigeria' 'Norway' 'Pakistan' 'Panama' 'Peru' 'Philippines'\n 'Chile' 'China' 'Colombia' 'Costa Rica' 'Czech Republic'\n 'Democratic Republic of the Congo' 'Denmark' 'Ecuador' 'Egypt' 'England'\n 'Guam' 'Hong Kong' 'Hungary' 'Iceland' 'India' 'Indonesia' 'Iran']\n(83, 84)\n"
    }
   ],
   "source": [
    "f_df = pd.read_csv(\"All_country_representative_seq_info.csv\")\n",
    "def all_country_distance_table():\n",
    "    vect = f_df['Fast Vector']\n",
    "    cont_ = f_df['Country']\n",
    "    final_vect_len = f_df.shape[0]\n",
    "    print(final_vect_len)\n",
    "    final_vect = np.full((final_vect_len,final_vect_len),-89)\n",
    "    for i in range(final_vect_len):\n",
    "        for j in range(final_vect_len):\n",
    "            # print(\"Doing -> \",cont_[i],cont_[j])\n",
    "            var_1 = np.asarray(vect[i].replace(\"[\",\"\").replace(\"]\",\"\").replace(' ','').split(\",\")).astype(np.float)\n",
    "            var_2 = np.asarray(vect[j].replace(\"[\",\"\").replace(\"]\",\"\").replace(' ','').split(\",\")).astype(np.float)\n",
    "            final_vect[i][j] = np.linalg.norm((var_1-var_2),ord=2)\n",
    "            # print(final_vect[i][j])\n",
    "\n",
    "    # print(final_vect)\n",
    "    return (np.array(cont_),final_vect)\n",
    "\n",
    "(cont_,final_vect) = all_country_distance_table()\n",
    "print(cont_)\n",
    "final_col = []\n",
    "final_col.append(\"\")\n",
    "final_col.extend(cont_)\n",
    "cont_ = cont_.reshape(cont_.shape[0],1)\n",
    "target = np.hstack((cont_, final_vect))\n",
    "print(target.shape)\n",
    "ekdom_final_df = pd.DataFrame(target,columns=final_col)\n",
    "# print(ekdom_final_df.shape)\n",
    "ekdom_final_df.to_csv(\"Final_distance_matrix.csv\",index=False)"
   ]
  }
 ],
 "metadata": {
  "language_info": {
   "codemirror_mode": {
    "name": "ipython",
    "version": 3
   },
   "file_extension": ".py",
   "mimetype": "text/x-python",
   "name": "python",
   "nbconvert_exporter": "python",
   "pygments_lexer": "ipython3",
   "version": "3.7.5-final"
  },
  "orig_nbformat": 2,
  "kernelspec": {
   "name": "python37364bite0e3e371ce084a1196d49e0c40db08e6",
   "display_name": "Python 3.7.3 64-bit"
  }
 },
 "nbformat": 4,
 "nbformat_minor": 2
}