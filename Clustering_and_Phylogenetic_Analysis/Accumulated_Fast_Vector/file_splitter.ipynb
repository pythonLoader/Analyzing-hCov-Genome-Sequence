{
 "cells": [
  {
   "cell_type": "code",
   "execution_count": 7,
   "metadata": {},
   "outputs": [
    {
     "output_type": "stream",
     "name": "stdout",
     "text": "Starting\n"
    }
   ],
   "source": [
    "import datetime\n",
    "print(\"Starting\")"
   ]
  },
  {
   "cell_type": "code",
   "execution_count": 1,
   "metadata": {},
   "outputs": [],
   "source": [
    "import pandas as pd \n",
    "import sys,os\n",
    "import numpy as np"
   ]
  },
  {
   "cell_type": "code",
   "execution_count": 2,
   "metadata": {},
   "outputs": [],
   "source": [
    "df = pd.read_csv(\"gisaid_labelled_new_dataset.csv\")\n",
    "locations = df[\"Location\"]\n",
    "\n",
    "loc,num = np.unique(locations,return_counts=True)"
   ]
  },
  {
   "cell_type": "code",
   "execution_count": 3,
   "metadata": {},
   "outputs": [
    {
     "output_type": "stream",
     "name": "stdout",
     "text": "['Africa / Democratic Republic of the Congo  / Kinshasa '\n 'Africa / Democratic Republic of the Congo / Kinshasa'\n 'Africa / Democratic Republic of the Congo / Kinshasa ' 'Africa / Egypt'\n 'Africa / Gambia / West Coast Region' 'Africa / South Africa / GP'\n 'Africa / South Africa / KZN' 'Asia  / Bangladesh '\n 'Asia / Bangladesh / Dhaka' 'Asia / Brunei' 'Asia / China / Beijing'\n 'Asia / China / Fujian' 'Asia / China / Guangdong / Dongguan'\n 'Asia / China / Guangdong / Foshan'\n 'Asia / China / Guangdong / Guangzhou'\n 'Asia / China / Guangdong / Huizhou' 'Asia / China / Guangdong / Shantou'\n 'Asia / China / Guangdong / Shanwei'\n 'Asia / China / Guangdong / Shaoguan'\n 'Asia / China / Guangdong / Shenzhen'\n 'Asia / China / Guangdong / Yangjiang'\n 'Asia / China / Guangdong / Zhanjiang'\n 'Asia / China / Guangdong / Zhongshan'\n 'Asia / China / Guangdong / Zhuhai' 'Asia / China / Guangzhou'\n 'Asia / China / Hubei / Wuhan' 'Asia / China / Yunnan'\n 'Asia / China / Zhejiang / Lishui' 'Asia / Hong Kong' 'Asia / India '\n 'Asia / India / Andhra Pradesh' 'Asia / India / Assam'\n 'Asia / India / Bihar' 'Asia / India / Delhi'\n 'Asia / India / Gujarat / Ahmedabad' 'Asia / India / Gujarat / Dahegam'\n 'Asia / India / Gujarat / Dhansura'\n 'Asia / India / Gujarat / Gandhinagar'\n 'Asia / India / Gujarat / Himatnagar' 'Asia / India / Gujarat / Mansa'\n 'Asia / India / Gujarat / Modasa' 'Asia / India / Gujarat / Prantij'\n 'Asia / India / Gujarat / Surat' 'Asia / India / Jammu'\n 'Asia / India / Karnataka' 'Asia / India / Ladakh'\n 'Asia / India / Madhya Pradesh' 'Asia / India / Maharashtra'\n 'Asia / India / Mumbai' 'Asia / India / Odisha' 'Asia / India / Punjab'\n 'Asia / India / Rajsathan' 'Asia / India / Tamil Nadu'\n 'Asia / India / Telangana' 'Asia / India / Telangana / Hyderabad'\n 'Asia / India / Telengana / Hyderabad' 'Asia / India / Uttar Pradesh'\n 'Asia / India / Uttar Pradesh / Noida' 'Asia / India / West Bengal'\n 'Asia / India / West Bengal / Darjeeling'\n 'Asia / India / West Bengal / East Medinipur'\n 'Asia / India / West Bengal / Kolkata'\n 'Asia / India / West Bengal / Tehatta'\n 'Asia / India / West_Bengal / Kolkata' 'Asia / Indonesia / Jakarta'\n 'Asia / Indonesia / Surabaya' 'Asia / Iran' 'Asia / Iran / Semnan'\n 'Asia / Iran / Tehran' 'Asia / Israel'\n 'Asia / Israel / Jerusalem District' 'Asia / Israel / North District'\n 'Asia / Israel / South Coast District' 'Asia / Israel / South District'\n 'Asia / Israel / Tel Aviv District' 'Asia / Japan' 'Asia / Japan / Kanto'\n 'Asia / Jordan / Amman' 'Asia / Jordan / Irbid'\n 'Asia / Kazakhstan / Nur-Sultan' 'Asia / Malaysia' 'Asia / Myanmar'\n 'Asia / Philippines / Manila' 'Asia / Saudi Arabia / Jeddah'\n 'Asia / Saudi Arabia / Madinah' 'Asia / Saudi Arabia / Makkah'\n 'Asia / Singapore' 'Asia / South Korea' 'Asia / Sri Lanka'\n 'Asia / Taiwan' 'Asia / Taiwan / New Taipei City'\n 'Asia / Taiwan / Taipei' 'Asia / Taiwan / Taoyuan' 'Asia / Thailand'\n 'Asia / Thailand / Bangkok' 'Asia / Thailand / Nonthaburi'\n 'Asia / Thailand / Phuket' 'Asia / Thailand / Samut Prakarn'\n 'Asia / United Arab Emirates' 'Asia / Vietnam' 'Asia / Vietnam / Hanoi'\n 'Asia/India / Telengana / Hyderabad' 'Central America / Costa Rica'\n 'Europe / Austria' 'Europe / Austria / Aldrans'\n 'Europe / Austria / Bad Gastein' 'Europe / Austria / Burgenland'\n 'Europe / Austria / Elbigenalp' 'Europe / Austria / Innsbruck'\n 'Europe / Austria / Ischgl' 'Europe / Austria / Kematen In Tirol'\n 'Europe / Austria / Laengenfeld' 'Europe / Austria / Matrei am Brenner'\n 'Europe / Austria / Ramsau im Zillertal'\n 'Europe / Austria / Seefeld in Tirol' 'Europe / Austria / Sistrans'\n 'Europe / Austria / St. Anton' 'Europe / Austria / Steinach am Brenner'\n 'Europe / Austria / Strass im Zillertal' 'Europe / Austria / Styria'\n 'Europe / Austria / Tyrol' 'Europe / Austria / Vienna'\n 'Europe / Austria / Zams' 'Europe / Belgium / Antwerp'\n 'Europe / Belgium / Ghent' 'Europe / Belgium / Liège'\n 'Europe / Czech Republic / Prague'\n 'Europe / Czech Republic / Vysocina Region / Bela - Ledec na Sazavou / Havlickuv Brod'\n 'Europe / Denmark / Unknown' 'Europe / France'\n 'Europe / France / Bourgogne / Dijon'\n 'Europe / France / Bourgogne Franche comte / Chalon sur Saone'\n 'Europe / France / Bretagne / Brest'\n 'Europe / France / Bretagne / Ploudalmezeau'\n 'Europe / France / Bretagne / Rennes'\n 'Europe / France / Centre - Val de Loire / Abondant'\n 'Europe / France / Grand Est / Nancy'\n 'Europe / France / Grand-Est / Ham sous Varsberg'\n 'Europe / France / Grand-est / Gondrecourt-le-chateau'\n 'Europe / France / Hauts De France / Chateau-thierry'\n 'Europe / France / Hauts De France / Compiegne'\n 'Europe / France / Hauts de France / Compiegne'\n \"Europe / France / Hauts de France / Nogent l'Artaud\"\n 'Europe / France / Hauts de France / Pontoise'\n 'Europe / France / Ile De France / Garches'\n 'Europe / France / Ile De France / Longjumeau'\n 'Europe / France / Ile De France / Orsay'\n 'Europe / France / Ile de France / Asnieres sur Seine'\n 'Europe / France / Ile de France / Cergy'\n 'Europe / France / Ile de France / Guyancourt'\n 'Europe / France / Ile de France / Longjumeau'\n 'Europe / France / Ile de France / Montigny le Bretonneux'\n 'Europe / France / Ile de France / Moussy le Neuf'\n 'Europe / France / Ile de France / Paris'\n 'Europe / France / Ile de France / Pecq'\n 'Europe / France / Normandie / Carentan' 'Europe / France / Occitanie'\n 'Europe / Georgia / Tbilisi' 'Europe / Germany'\n 'Europe / Germany / Bavaria / Munich' 'Europe / Greece / Athens'\n 'Europe / Hungary / Balassagyarmat' 'Europe / Hungary / Balatonfured'\n 'Europe / Hungary / Baranya' 'Europe / Hungary / Bekesszentandras'\n 'Europe / Hungary / Budapest' 'Europe / Hungary / Kecskemet'\n 'Europe / Hungary / Oroshaza' 'Europe / Hungary / Szeged'\n 'Europe / Ireland' 'Europe / Italy / Abruzzo'\n 'Europe / Italy / Friuli Venezia Giulia' 'Europe / Italy / Lombardy'\n 'Europe / Latvia' 'Europe / Latvia ' 'Europe / Luxembourg'\n 'Europe / Netherlands' 'Europe / Netherlands / Milheeze'\n 'Europe / Norway' 'Europe / Poland / Dolnoslakie'\n 'Europe / Poland / Dolnoslaskie' 'Europe / Poland / Malopolskie'\n 'Europe / Romania / Constanta' 'Europe / Romania / Constanta '\n 'Europe / Russia / Buryat Republic / Ulan-Ude'\n 'Europe / Russia / Chechen Republic'\n 'Europe / Russia / Chelyabinsk Region'\n 'Europe / Russia / Khabarovsk Region'\n 'Europe / Russia / Krasnodar Region'\n 'Europe / Russia / Krasnoyarsk Region' 'Europe / Russia / Lipetsk Region'\n 'Europe / Russia / Moscow' 'Europe / Russia / Moscow '\n 'Europe / Russia / Moscow Region' 'Europe / Russia / Novosibirsk Region'\n 'Europe / Russia / Omsk Region' 'Europe / Russia / Orenburg Region'\n 'Europe / Russia / Perm Region' 'Europe / Russia / Primorskiy Region'\n 'Europe / Russia / Pskov Region' 'Europe / Russia / Republic of Buryatia'\n 'Europe / Russia / Republic of Crymea'\n 'Europe / Russia / Republic of Kabardino-Balkaria'\n 'Europe / Russia / Republic of Sakha (Yakutia)'\n 'Europe / Russia / Saint Petersburg' 'Europe / Russia / Sakhalin Region'\n 'Europe / Russia / Samara Region' 'Europe / Russia / St. Petersburg'\n 'Europe / Russia / St.Petersburg' 'Europe / Russia / Sverdlovsk Region'\n 'Europe / Russia / Tatarstan' 'Europe / Russia / Tver Region'\n 'Europe / Serbia / Kraljevo' 'Europe / Serbia / Novi Pazar'\n 'Europe / Spain / Catalonia'\n 'Europe / Spain / Comunitat_Valenciana / Alboraya'\n 'Europe / Spain / Comunitat_Valenciana / Albuixech'\n 'Europe / Spain / Comunitat_Valenciana / Beniganim'\n 'Europe / Spain / Comunitat_Valenciana / Bonrepos_i_Mirambell'\n \"Europe / Spain / Comunitat_Valenciana / Canet_d'En_Berenguer\"\n 'Europe / Spain / Comunitat_Valenciana / El_Puig'\n 'Europe / Spain / Comunitat_Valenciana / Elda'\n 'Europe / Spain / Comunitat_Valenciana / Gandia'\n 'Europe / Spain / Comunitat_Valenciana / Gilet'\n 'Europe / Spain / Comunitat_Valenciana / Lutxent'\n 'Europe / Spain / Comunitat_Valenciana / Meliana'\n 'Europe / Spain / Comunitat_Valenciana / Oliva'\n 'Europe / Spain / Comunitat_Valenciana / Olleria'\n 'Europe / Spain / Comunitat_Valenciana / Palma_de_Gandia'\n 'Europe / Spain / Comunitat_Valenciana / Puzol'\n 'Europe / Spain / Comunitat_Valenciana / Sagunt'\n 'Europe / Spain / Comunitat_Valenciana / Tavernes_de_la_Valldigna'\n 'Europe / Spain / Comunitat_Valenciana / Valencia'\n 'Europe / Spain / Comunitat_Valenciana / Xeraco'\n 'Europe / Spain / Madrid' 'Europe / Sweden / Dalarna'\n 'Europe / Sweden / Gavleborgs lan' 'Europe / Sweden / Halland'\n 'Europe / Sweden / Jamtland' 'Europe / Sweden / Norrbotten'\n 'Europe / Sweden / Orebro lan' 'Europe / Sweden / Ostergotland'\n 'Europe / Sweden / Skane' 'Europe / Sweden / Sormland'\n 'Europe / Sweden / Stockholm' 'Europe / Sweden / Uppsala'\n 'Europe / Sweden / Varmland' 'Europe / Sweden / Vasterbotten'\n 'Europe / Sweden / Vastmanland' 'Europe / Sweden / Vastra Gotaland'\n 'Europe / Sweden / Västerbotten' 'Europe / Switzerland'\n 'Europe / Turkey / Afyon' 'Europe / Turkey / Agri'\n 'Europe / Turkey / Aksaray' 'Europe / Turkey / Ankara'\n 'Europe / Turkey / Balikesir' 'Europe / Turkey / Canakkale'\n 'Europe / Turkey / Denizli' 'Europe / Turkey / Eskisehir'\n 'Europe / Turkey / Istanbul' 'Europe / Turkey / Karaman'\n 'Europe / Turkey / Kastamonu' 'Europe / Turkey / Kocaeli'\n 'Europe / Turkey / Konya' 'Europe / Turkey / Mardin'\n 'Europe / Turkey / Nevsehir' 'Europe / Turkey / Sakarya'\n 'Europe / Turkey / Siirt' 'Europe / Turkey / Tekirdag'\n 'Europe / Turkey / Tokat' 'Europe / United Kingdom / England'\n 'Europe / United Kingdom / Northern Ireland'\n 'Europe / United Kingdom / Scotland' 'Europe / United Kingdom / Wales'\n 'Europe / \\u200eRomania / Bucharest' 'North America / Canada / MB'\n 'North America / Canada / NB' 'North America / Canada / NL'\n 'North America / Canada / NS' 'North America / Canada / Quebec'\n 'North America / Canada / SK' 'North America / USA'\n 'North America / USA  / Florida'\n 'North America / USA / Alaska / Anchorage'\n 'North America / USA / Alaska / Interior'\n 'North America / USA / Alaska / Mat-Su'\n 'North America / USA / Alaska / Southeast'\n 'North America / USA / California'\n 'North America / USA / California / Davis'\n 'North America / USA / California / Grand Princess'\n 'North America / USA / California / San Diego'\n 'North America / USA / California / San Francisco'\n 'North America / USA / California / San Francisco County'\n 'North America / USA / California / Santa Clara County'\n 'North America / USA / Connecticut'\n 'North America / USA / Connecticut / Fairfield County'\n 'North America / USA / District of Columbia'\n 'North America / USA / Florida' 'North America / USA / Idaho'\n 'North America / USA / Illinois / Chicago'\n 'North America / USA / Indiana / Indianapolis'\n 'North America / USA / Iowa'\n 'North America / USA / Iowa / Allamakee County'\n 'North America / USA / Iowa / Fayette County'\n 'North America / USA / Iowa / Winneshiek County'\n 'North America / USA / LA' 'North America / USA / Louisiana'\n 'North America / USA / Louisiana '\n 'North America / USA / Louisiana / New Orleans'\n 'North America / USA / Maryland' 'North America / USA / Michigan'\n 'North America / USA / Minnesota'\n 'North America / USA / Minnesota / Winona County'\n 'North America / USA / NY' 'North America / USA / New Jersey'\n 'North America / USA / New Jersey / Bergen County'\n 'North America / USA / New Jersey / Camden County'\n 'North America / USA / New Jersey / Essex County'\n 'North America / USA / New Jersey / Hudson County'\n 'North America / USA / New York' 'North America / USA / New York / Bronx'\n 'North America / USA / New York / Brooklyn'\n 'North America / USA / New York / Manhattan'\n 'North America / USA / New York / Nassau County'\n 'North America / USA / New York / New York City'\n 'North America / USA / New York / Queens'\n 'North America / USA / New York / Rockland County'\n 'North America / USA / New York / Staten Island'\n 'North America / USA / New York / Suffolk County'\n 'North America / USA / New York / Westchester County'\n 'North America / USA / Oregon'\n 'North America / USA / Oregon / Multnomah County'\n 'North America / USA / Oregon / Wasco County'\n 'North America / USA / Oregon / Washington County'\n 'North America / USA / Pennsylvania / Pittsburgh'\n 'North America / USA / Puerto Rico'\n 'North America / USA / South Carolina' 'North America / USA / Texas'\n 'North America / USA / Texas / Houston' 'North America / USA / Utah'\n 'North America / USA / Virginia' 'North America / USA / Washington'\n 'North America / USA / Washington / Adams County'\n 'North America / USA / Washington / Asotin County'\n 'North America / USA / Washington / Benton County'\n 'North America / USA / Washington / Clark County'\n 'North America / USA / Washington / Franklin County'\n 'North America / USA / Washington / Grant County'\n 'North America / USA / Washington / King County'\n 'North America / USA / Washington / Kittitas County'\n 'North America / USA / Washington / Mason County'\n 'North America / USA / Washington / Pierce County'\n 'North America / USA / Washington / Skagit County'\n 'North America / USA / Washington / Snohomish County'\n 'North America / USA / Washington / Thurston County'\n 'North America / USA / Washington / Unknown County'\n 'North America / USA / Washington / Whatcom County'\n 'North America / USA / Washington / Yakima County'\n 'North America / USA / Washington DC' 'North America / USA / Wisconsin'\n 'North America / USA / Wisconsin / Bayside'\n 'North America / USA / Wisconsin / Brookfield'\n 'North America / USA / Wisconsin / Brown Deer'\n 'North America / USA / Wisconsin / Campbellsp'\n 'North America / USA / Wisconsin / Cudahy'\n 'North America / USA / Wisconsin / Elm Grove'\n 'North America / USA / Wisconsin / Franklin'\n 'North America / USA / Wisconsin / Glendale'\n 'North America / USA / Wisconsin / Grafton'\n 'North America / USA / Wisconsin / Greater Milwaukee Area'\n 'North America / USA / Wisconsin / Greenfield'\n 'North America / USA / Wisconsin / Hartford'\n 'North America / USA / Wisconsin / Jackson'\n 'North America / USA / Wisconsin / Juneau County'\n 'North America / USA / Wisconsin / La Crosse County'\n 'North America / USA / Wisconsin / Madison'\n 'North America / USA / Wisconsin / Mequon'\n 'North America / USA / Wisconsin / Milwaukee'\n 'North America / USA / Wisconsin / New Berlin'\n 'North America / USA / Wisconsin / Oak Creek'\n 'North America / USA / Wisconsin / Pewaukee'\n 'North America / USA / Wisconsin / Port Washi'\n 'North America / USA / Wisconsin / Racine'\n 'North America / USA / Wisconsin / River Hills'\n 'North America / USA / Wisconsin / Saukville'\n 'North America / USA / Wisconsin / Slinger'\n 'North America / USA / Wisconsin / South Milwaukee'\n 'North America / USA / Wisconsin / Thiensvill'\n 'North America / USA / Wisconsin / Trempealeau County'\n 'North America / USA / Wisconsin / Vernon County'\n 'North America / USA / Wisconsin / Wauwatosa'\n 'North America / USA / Wisconsin / Whitefish'\n 'North America/ USA / Connecticut' 'Noth America / USA / Florida'\n 'Noth America / USA / Iowa' 'Noth America / USA / Maryland'\n 'Noth America / USA / Pennsylvania' 'Noth America / USA / Puerto Rico'\n 'Noth America / USA / Vermont' 'Noth America / USA / Washington DC'\n 'Oceania / Australia / New South Wales / Sydney'\n 'Oceania / Australia / Northern Territory'\n 'Oceania / Australia / Queensland / Brisbane'\n 'Oceania / Australia / Queensland / Cairns'\n 'Oceania / Australia / Queensland / Northern Queensland'\n 'Oceania / Australia / Queensland / Southeast Queensland'\n 'Oceania / Australia / Queensland / Sunshine Coast'\n 'Oceania / Australia / Victoria' 'Oceania / Guam'\n 'South America / Argentina / Buenos Aires'\n 'South America / Argentina / Ciudad Autonoma de Buenos Aires'\n 'South America / Argentina / Rio Negro'\n 'South America / Brazil / Minas gerais'\n 'South America / Chile / Antofagasta' 'South America / Chile / Chillan'\n 'South America / Chile / Concepcion' 'South America / Chile / Coyhaique'\n 'South America / Chile / Puerto Montt'\n 'South America / Chile / Punta Arenas' 'South America / Chile / Rancagua'\n 'South America / Chile / Santiago' 'South America / Chile / Temuco'\n 'South America / Chile / Valparaiso' 'South America / Colombia'\n 'South America / Colombia / Antioquia / Envigado'\n 'South America / Colombia / Antioquia / Itagui'\n 'South America / Colombia / Antioquia / Medellin'\n 'South America / Colombia / Antioquia / Sabaneta'\n 'South America / Colombia / Boyaca / Santa Sofia'\n 'South America / Colombia / Boyaca / Santana'\n 'South America / Colombia / Boyaca / Togui'\n 'South America / Colombia / Caldas / Anserma'\n 'South America / Colombia / Choco / Quibdo'\n 'South America / Colombia / Cordoba / Monteria'\n 'South America / Colombia / Cordoba / Tierralta'\n 'South America / Colombia / Cundinamarca / Cajica'\n 'South America / Colombia / Cundinamarca / Choconta'\n 'South America / Colombia / Cundinamarca / Funza'\n 'South America / Colombia / Cundinamarca / Madrid'\n 'South America / Colombia / Cundinamarca / Soacha'\n 'South America / Colombia / Cundinamarca / Zipaquira'\n 'South America / Colombia / Huila / Neiva'\n 'South America / Colombia / Magdalena / Santa Marta'\n 'South America / Colombia / Narino / Ipiales'\n 'South America / Colombia / Risaralda / Dosquebradas'\n 'South America / Colombia / Risaralda / Pereira'\n 'South America / Colombia / Tolima / Ibague'\n 'South America / Colombia / Valle del Cauca / Andalucia'\n 'South America / Colombia / Valle del Cauca / Ansermo'\n 'South America / Colombia / Valle del Cauca / Buga'\n 'South America / Colombia / Valle del Cauca / Cali'\n 'South America / Colombia / Valle del Cauca / El cerrito'\n 'South America / Colombia / Valle del Cauca / Jamundi'\n 'South America / Colombia / Valle del Cauca / Palmira'\n 'South America / Colombia / Valle del Cauca / Trujillo'\n 'South America / Colombia / Valle del Cauca / Tulua'\n 'South America / Colombia / Villavicencio / Meta'\n 'South America / Uruguay / Montevideo']\n"
    }
   ],
   "source": [
    "print(loc)"
   ]
  },
  {
   "cell_type": "code",
   "execution_count": 4,
   "metadata": {},
   "outputs": [
    {
     "output_type": "stream",
     "name": "stdout",
     "text": "459\n['Argentina',\n 'Australia',\n 'Austria',\n 'Bangladesh',\n 'Belgium',\n 'Brazil',\n 'Brunei',\n 'Canada',\n 'Chile',\n 'China',\n 'Colombia',\n 'Costa Rica',\n 'Czech Republic',\n 'Democratic Republic of the Congo',\n 'Denmark',\n 'Egypt',\n 'France',\n 'Gambia',\n 'Georgia',\n 'Germany',\n 'Greece',\n 'Guam',\n 'Hong Kong',\n 'Hungary',\n 'India',\n 'Indonesia',\n 'Iran',\n 'Ireland',\n 'Israel',\n 'Italy',\n 'Japan',\n 'Jordan',\n 'Kazakhstan',\n 'Latvia',\n 'Luxembourg',\n 'Malaysia',\n 'Myanmar',\n 'Netherlands',\n 'Norway',\n 'Philippines',\n 'Poland',\n 'Romania',\n 'Russia',\n 'Saudi Arabia',\n 'Serbia',\n 'Singapore',\n 'South Africa',\n 'South Korea',\n 'Spain',\n 'Sri Lanka',\n 'Sweden',\n 'Switzerland',\n 'Taiwan',\n 'Thailand',\n 'Turkey',\n 'USA',\n 'United Arab Emirates',\n 'United Kingdom',\n 'Uruguay',\n 'Vietnam',\n '\\u200eRomania']\n61\n"
    }
   ],
   "source": [
    "from pprint import pprint\n",
    "print(len(loc))\n",
    "countries = []\n",
    "for country in loc:\n",
    "    cont_ = country.split('/')[1].strip()\n",
    "    if cont_ not in countries:\n",
    "        countries.append(cont_)\n",
    "countries.sort()\n",
    "pprint(countries)\n",
    "print(len(countries))"
   ]
  },
  {
   "cell_type": "code",
   "execution_count": null,
   "metadata": {},
   "outputs": [],
   "source": []
  },
  {
   "cell_type": "code",
   "execution_count": 5,
   "metadata": {},
   "outputs": [],
   "source": [
    "if not os.path.exists('All_Countries_Splitted'):\n",
    "    os.mkdir('All_Countries_Splitted')\n",
    "\n",
    "direc = 'All_Countries_Splitted'\n",
    "for cont_ in countries:\n",
    "    n_df = df.loc[df[\"Location\"].str.contains(cont_)]\n",
    "    f_name = direc+\"/\"+cont_+\".csv\"\n",
    "    n_df.to_csv(f_name,index=False)"
   ]
  }
 ],
 "metadata": {
  "language_info": {
   "codemirror_mode": {
    "name": "ipython",
    "version": 3
   },
   "file_extension": ".py",
   "mimetype": "text/x-python",
   "name": "python",
   "nbconvert_exporter": "python",
   "pygments_lexer": "ipython3",
   "version": "3.7.5-final"
  },
  "orig_nbformat": 2,
  "kernelspec": {
   "name": "python37364bite0e3e371ce084a1196d49e0c40db08e6",
   "display_name": "Python 3.7.3 64-bit"
  }
 },
 "nbformat": 4,
 "nbformat_minor": 2
}