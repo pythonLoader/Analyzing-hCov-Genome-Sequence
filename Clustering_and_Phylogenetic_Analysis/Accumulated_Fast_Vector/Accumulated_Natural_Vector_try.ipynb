{
 "cells": [
  {
   "cell_type": "code",
   "execution_count": 1,
   "metadata": {},
   "outputs": [],
   "source": [
    "import itertools\n",
    "import os\n",
    "import numpy as np\n",
    "import sys\n",
    "from pprint import pprint\n",
    "import pandas as pd\n",
    "from sklearn.preprocessing import LabelEncoder\n",
    "from sklearn.preprocessing import OneHotEncoder\n",
    "import random"
   ]
  },
  {
   "cell_type": "code",
   "execution_count": 2,
   "metadata": {},
   "outputs": [],
   "source": [
    "def find_covariance(vect1,vect2):\n",
    "    cov_np = np.cov(vect1,vect2)\n",
    "    mean_1 = np.mean(vect1)\n",
    "    mean_2 = np.mean(vect2)\n",
    "    n1 = np.max(vect1)\n",
    "    n2 = np.max(vect2)\n",
    "    assert vect1.shape[0] == vect2.shape[0]\n",
    "    sum = 0\n",
    "    for val1,val2 in zip(vect1,vect2):\n",
    "        sum += (val1-mean_1)*(val2-mean_2)\n",
    "    sum = sum/(n1*n2)\n",
    "    covariance = sum\n",
    "    return covariance\n",
    "    # print(cov_np,sum)\n"
   ]
  },
  {
   "cell_type": "code",
   "execution_count": 3,
   "metadata": {},
   "outputs": [],
   "source": [
    "from collections import Counter\n",
    "from itertools import combinations\n",
    "def accumulated_nv_generator(seq):\n",
    "    \n",
    "    Accumulated_Natural_Vector = np.zeros(18)\n",
    "\n",
    "    U = {}\n",
    "    U[\"A\"],U[\"T\"],U[\"C\"],U[\"G\"] = np.zeros((4,len(seq)))\n",
    "    n_alpha = Counter(seq)\n",
    "    count = 0\n",
    "    for key in n_alpha.keys():\n",
    "        Accumulated_Natural_Vector[count] = n_alpha[key]\n",
    "        count+=1 \n",
    "    # print(n_alpha[\"A\"])\n",
    "    for idx,c in enumerate(seq):\n",
    "        if c == \"A\":\n",
    "            U[\"A\"][idx] = 1\n",
    "        elif c == \"T\":\n",
    "            U[\"T\"][idx] = 1\n",
    "        elif c == \"G\":\n",
    "            U[\"G\"][idx] = 1\n",
    "        elif(c == \"C\"):\n",
    "            U[\"C\"][idx] = 1\n",
    "        else:\n",
    "            print(\"Vodox->\",c,idx)\n",
    "    U_accumulated = {}\n",
    "    for key in U.keys():\n",
    "        U_accumulated[key] = np.cumsum(U[key])\n",
    "    \n",
    "    # print(U_accumulated[\"A\"])\n",
    "    # print(U_accumulated[\"C\"])\n",
    "    zeta = {}\n",
    "    for key in U_accumulated.keys():\n",
    "        zeta[key] = np.sum(U_accumulated[key])/n_alpha[key]\n",
    "        Accumulated_Natural_Vector[count] = zeta[key]\n",
    "        count+=1\n",
    "\n",
    "    Divergence = {}\n",
    "    for key in U_accumulated.keys():\n",
    "        sum = 0\n",
    "        mean_alpha = np.mean(U_accumulated[key])\n",
    "        for val in U_accumulated[key]:\n",
    "            sum+= (((val - mean_alpha)/(n_alpha[key]))**2)\n",
    "        Divergence[key] = sum \n",
    "        Accumulated_Natural_Vector[count] = Divergence[key]\n",
    "        count+=1\n",
    "        # sum = sum/((n_alpha[key])**2)\n",
    "        # print(key,sum,np.var(U_accumulated[key]))\n",
    "    key_combo = list(combinations(U_accumulated.keys(),2))\n",
    "    sorted_key_combo = sorted(key_combo,key=lambda x: (x[0], x[1]))\n",
    "\n",
    "    for tup in sorted_key_combo:\n",
    "        cov = find_covariance(U_accumulated[tup[0]],U_accumulated[tup[1]])\n",
    "        Accumulated_Natural_Vector[count] = cov\n",
    "        count+=1\n",
    "    assert count == 18\n",
    "    # print(Accumulated_Natural_Vector)\n",
    "    return Accumulated_Natural_Vector"
   ]
  },
  {
   "cell_type": "code",
   "execution_count": 4,
   "metadata": {},
   "outputs": [],
   "source": [
    "def minkowski(list_,seqs_number,exponent): \n",
    "    matrix = np.zeros([seqs_number, seqs_number])\n",
    "    for i, j in itertools.combinations(range(0,seqs_number),2):\n",
    "         matrix[i][j]= matrix [j][i] = np.linalg.norm((list_[i,:]-list_[j,:]),ord=exponent)\n",
    "        #  (np.sum((np.absolute(list_[i,:] - list_[j,:]))**exponent))**(1.0/float(exponent))\n",
    "    return matrix\n",
    "def euclidean(list_,seqs_number):\n",
    "    return minkowski(list_,seqs_number,2)"
   ]
  },
  {
   "cell_type": "code",
   "execution_count": 6,
   "metadata": {},
   "outputs": [
    {
     "output_type": "stream",
     "name": "stdout",
     "text": "Started working with -> Luxembourg.csv n_seq-> (86,)\n0\n(86, 18)\n(86, 86)\nStarted working with -> Uruguay.csv n_seq-> (9,)\n0\n(9, 18)\n(9, 9)\nStarted working with -> Cambodia.csv n_seq-> (1,)\n0\n(1, 18)\n(1, 1)\nStarted working with -> Slovenia.csv n_seq-> (4,)\n0\n(4, 18)\n(4, 4)\nStarted working with -> Democratic Republic of the Congo.csv n_seq-> (38,)\n0\n(38, 18)\n(38, 38)\nStarted working with -> Nepal.csv n_seq-> (1,)\n0\n(1, 18)\n(1, 1)\nStarted working with -> Latvia.csv n_seq-> (10,)\n0\n(10, 18)\n(10, 10)\nStarted working with -> South Africa.csv n_seq-> (6,)\n0\n(6, 18)\n(6, 6)\nStarted working with -> France.csv n_seq-> (226,)\n0\n100\n200\n(226, 18)\n(226, 226)\nStarted working with -> Singapore.csv n_seq-> (45,)\n0\n(45, 18)\n(45, 45)\nStarted working with -> South Korea.csv n_seq-> (33,)\n0\n(33, 18)\n(33, 33)\nStarted working with -> Qatar.csv n_seq-> (10,)\n0\n(10, 18)\n(10, 10)\nStarted working with -> Ghana.csv n_seq-> (6,)\n0\n(6, 18)\n(6, 6)\nStarted working with -> USA.csv n_seq-> (2378,)\n0\n100\n200\n300\n400\n500\n600\n700\n800\n900\n1000\n1100\n1200\n1300\n1400\n1500\n1600\n1700\n1800\n1900\n2000\n2100\n2200\n2300\n(2378, 18)\n(2378, 2378)\nStarted working with -> Brazil.csv n_seq-> (34,)\n0\n(34, 18)\n(34, 34)\nStarted working with -> Lithuania.csv n_seq-> (1,)\n0\n(1, 18)\n(1, 1)\nStarted working with -> Estonia.csv n_seq-> (4,)\n0\n(4, 18)\n(4, 4)\nStarted working with -> Argentina.csv n_seq-> (3,)\n0\n(3, 18)\n(3, 3)\nStarted working with -> Sweden.csv n_seq-> (4,)\n0\n(4, 18)\n(4, 4)\nStarted working with -> Georgia.csv n_seq-> (28,)\n0\n(28, 18)\n(28, 28)\nStarted working with -> Greece.csv n_seq-> (4,)\n0\n(4, 18)\n(4, 4)\nStarted working with -> Australia.csv n_seq-> (1045,)\n0\n100\n200\n300\n400\n500\n600\n700\n800\n900\n1000\n(1045, 18)\n(1045, 1045)\nStarted working with -> Ireland.csv n_seq-> (14,)\n0\n(14, 18)\n(14, 14)\nStarted working with -> Norway.csv n_seq-> (26,)\n0\n(26, 18)\n(26, 26)\nStarted working with -> Netherlands.csv n_seq-> (567,)\n0\n100\n200\n300\n400\n500\n(567, 18)\n(567, 567)\nStarted working with -> Thailand.csv n_seq-> (7,)\n0\n(7, 18)\n(7, 7)\nStarted working with -> Korea.csv n_seq-> (36,)\n0\n(36, 18)\n(36, 36)\nStarted working with -> Algeria.csv n_seq-> (3,)\n0\n(3, 18)\n(3, 3)\nStarted working with -> Spain.csv n_seq-> (145,)\n0\n100\n(145, 18)\n(145, 145)\nStarted working with -> Finland.csv n_seq-> (40,)\n0\n(40, 18)\n(40, 40)\nStarted working with -> Japan.csv n_seq-> (102,)\n0\n100\n(102, 18)\n(102, 102)\nStarted working with -> Italy.csv n_seq-> (39,)\n0\n(39, 18)\n(39, 39)\nStarted working with -> Hong Kong.csv n_seq-> (62,)\n0\n(62, 18)\n(62, 62)\nStarted working with -> Malaysia.csv n_seq-> (10,)\n0\n(10, 18)\n(10, 10)\nStarted working with -> Austria.csv n_seq-> (21,)\n0\n(21, 18)\n(21, 21)\nStarted working with -> Israel.csv n_seq-> (2,)\n0\n(2, 18)\n(2, 2)\nStarted working with -> Poland.csv n_seq-> (7,)\n0\n(7, 18)\n(7, 7)\nStarted working with -> Iran.csv n_seq-> (1,)\n0\n(1, 18)\n(1, 1)\nStarted working with -> Belarus.csv n_seq-> (2,)\n0\n(2, 18)\n(2, 2)\nStarted working with -> Denmark.csv n_seq-> (9,)\n0\n(9, 18)\n(9, 9)\nStarted working with -> Chile.csv n_seq-> (7,)\n0\n(7, 18)\n(7, 7)\nStarted working with -> Pakistan.csv n_seq-> (2,)\n0\n(2, 18)\n(2, 2)\nStarted working with -> Slovakia.csv n_seq-> (4,)\n0\n(4, 18)\n(4, 4)\nStarted working with -> Switzerland.csv n_seq-> (48,)\n0\n(48, 18)\n(48, 48)\nStarted working with -> Senegal.csv n_seq-> (22,)\n0\n(22, 18)\n(22, 22)\nStarted working with -> Czech Republic.csv n_seq-> (28,)\n0\n(28, 18)\n(28, 28)\nStarted working with -> Kuwait.csv n_seq-> (8,)\n0\n(8, 18)\n(8, 8)\nStarted working with -> United Kingdom.csv n_seq-> (3097,)\n0\n100\n200\n300\n400\n500\n600\n700\n800\n900\n1000\n1100\n1200\n1300\n1400\n1500\n1600\n1700\n1800\n1900\n2000\n2100\n2200\n2300\n2400\n2500\n2600\n2700\n2800\n2900\n3000\n(3097, 18)\n(3097, 3097)\nStarted working with -> Mexico.csv n_seq-> (14,)\n0\n(14, 18)\n(14, 14)\nStarted working with -> Iceland.csv n_seq-> (565,)\n0\n100\n200\n300\n400\n500\n(565, 18)\n(565, 565)\nStarted working with -> Portugal.csv n_seq-> (100,)\n0\n(100, 18)\n(100, 100)\nStarted working with -> Vietnam.csv n_seq-> (8,)\n0\n(8, 18)\n(8, 8)\nStarted working with -> Colombia.csv n_seq-> (2,)\n0\n(2, 18)\n(2, 2)\nStarted working with -> Saudi Arabia.csv n_seq-> (3,)\n0\n(3, 18)\n(3, 3)\nStarted working with -> Taiwan.csv n_seq-> (61,)\n0\n(61, 18)\n(61, 61)\nStarted working with -> Hungary.csv n_seq-> (3,)\n0\n(3, 18)\n(3, 3)\nStarted working with -> Ecuador.csv n_seq-> (4,)\n0\n(4, 18)\n(4, 4)\nStarted working with -> New Zealand.csv n_seq-> (8,)\n0\n(8, 18)\n(8, 8)\nStarted working with -> England.csv n_seq-> (2317,)\n0\n100\n200\n300\n400\n500\n600\n700\n800\n900\n1000\n1100\n1200\n1300\n1400\n1500\n1600\n1700\n1800\n1900\n2000\n2100\n2200\n2300\n(2317, 18)\n(2317, 2317)\nStarted working with -> Peru.csv n_seq-> (1,)\n0\n(1, 18)\n(1, 1)\nStarted working with -> Russia.csv n_seq-> (38,)\n0\n(38, 18)\n(38, 38)\nStarted working with -> India.csv n_seq-> (41,)\n0\n(41, 18)\n(41, 41)\nStarted working with -> Germany.csv n_seq-> (86,)\n0\n(86, 18)\n(86, 86)\nStarted working with -> Canada.csv n_seq-> (130,)\n0\n100\n(130, 18)\n(130, 130)\nStarted working with -> Belgium.csv n_seq-> (386,)\n0\n100\n200\n300\n(386, 18)\n(386, 386)\nStarted working with -> Turkey.csv n_seq-> (5,)\n0\n(5, 18)\n(5, 5)\nStarted working with -> Nigeria.csv n_seq-> (1,)\n0\n(1, 18)\n(1, 1)\nStarted working with -> China.csv n_seq-> (310,)\n0\n100\n200\n300\n(310, 18)\n(310, 310)\nStarted working with -> Panama.csv n_seq-> (1,)\n0\n(1, 18)\n(1, 1)\n"
    }
   ],
   "source": [
    "files = os.listdir('All_Countries_Splitted')\n",
    "main_dir = 'All_Countries_Splitted'\n",
    "if not os.path.exists(\"All_Countries_ACC_Vects\"):\n",
    "    os.mkdir(\"All_Countries_ACC_Vects\")\n",
    "if not os.path.exists(\"All_Countries_Distance_Matrix\"):\n",
    "    os.mkdir(\"All_Countries_Distance_Matrix\")\n",
    "\n",
    "for file_ in files:\n",
    "    inp_file = main_dir + \"/\"+file_\n",
    "    c_name = file_.split(\".\")[0]\n",
    "    df = pd.read_csv(inp_file)\n",
    "    \n",
    "    sequences = df[\"Sequence\"]\n",
    "    print(\"Started working with ->\",file_,\"n_seq->\",sequences.shape)\n",
    "\n",
    "    acc_vects = []\n",
    "    count = 0\n",
    "    for seq in sequences:\n",
    "       \n",
    "        acc_vects.append(accumulated_nv_generator(seq))\n",
    "        if(count%100 == 0):\n",
    "            print(count)\n",
    "        count +=1\n",
    "        # print(count)\n",
    "\n",
    "    acc_vects = np.array(acc_vects)\n",
    "    print(acc_vects.shape)\n",
    "    cont_ = np.array(acc_vects)\n",
    "    # print(cont_.shape)\n",
    "    ID_arr = df[\"Accession ID\"]\n",
    "    # print(ID_arr.shape)\n",
    "\n",
    "    ID_col = pd.Series(ID_arr)\n",
    "    Vector_col = pd.Series(cont_.tolist())\n",
    "\n",
    "    frame = {'Accession ID': ID_col,'Fast Vector':Vector_col}\n",
    "    df_final = pd.DataFrame(frame)\n",
    "    direc_1 = \"All_Countries_ACC_Vects\"\n",
    "    df_final.to_csv(direc_1+\"/\"+c_name+\"_Accumulated_vector.csv\",index=False)\n",
    "    \n",
    "    direc_2 = \"All_Countries_Distance_Matrix\"\n",
    "    matrix = euclidean(cont_,len(cont_))\n",
    "    print(matrix.shape)\n",
    "    final_df = pd.DataFrame(matrix,columns=ID_arr)\n",
    "    final_df.to_csv(direc_2+\"/\"+c_name+\"_accumulated_distance_matrix.csv\",index=False)\n",
    "\n",
    "# seq = sequences[0]"
   ]
  },
  {
   "cell_type": "code",
   "execution_count": null,
   "metadata": {},
   "outputs": [],
   "source": [
    "# seq_1 = \"ATCTAGCT\"\n",
    "# accumulated_indicator_function(seq)\n"
   ]
  },
  {
   "cell_type": "code",
   "execution_count": 7,
   "metadata": {},
   "outputs": [
    {
     "output_type": "stream",
     "name": "stdout",
     "text": "(717, 18)\n(717,)\n"
    }
   ],
   "source": []
  },
  {
   "cell_type": "code",
   "execution_count": 8,
   "metadata": {},
   "outputs": [],
   "source": []
  },
  {
   "cell_type": "code",
   "execution_count": 9,
   "metadata": {},
   "outputs": [
    {
     "output_type": "stream",
     "name": "stdout",
     "text": "(717, 717)\n"
    }
   ],
   "source": []
  },
  {
   "cell_type": "code",
   "execution_count": 10,
   "metadata": {},
   "outputs": [],
   "source": []
  },
  {
   "cell_type": "markdown",
   "metadata": {},
   "source": [
    "What is this behaviour Puja?"
   ]
  }
 ],
 "metadata": {
  "language_info": {
   "codemirror_mode": {
    "name": "ipython",
    "version": 3
   },
   "file_extension": ".py",
   "mimetype": "text/x-python",
   "name": "python",
   "nbconvert_exporter": "python",
   "pygments_lexer": "ipython3",
   "version": "3.7.5-final"
  },
  "orig_nbformat": 2,
  "kernelspec": {
   "name": "python37364bita88f1b0f200b4063a9e930e76beff9ee",
   "display_name": "Python 3.7.3 64-bit"
  }
 },
 "nbformat": 4,
 "nbformat_minor": 2
}