{
 "cells": [
  {
   "cell_type": "code",
   "execution_count": 0,
   "metadata": {
    "colab": {
     "base_uri": "https://localhost:8080/",
     "height": 35
    },
    "colab_type": "code",
    "id": "46xqJE0c6Cjx",
    "outputId": "8469c3dc-71c0-44a3-aeef-f611321b2b6f"
   },
   "outputs": [
    {
     "name": "stderr",
     "output_type": "stream",
     "text": [
      "Using TensorFlow backend.\n"
     ]
    }
   ],
   "source": [
    "import pandas as pd\n",
    "import numpy as np\n",
    "import tensorflow as tf\n",
    "\n",
    "from sklearn.preprocessing import OneHotEncoder\n",
    "from itertools import permutations,combinations_with_replacement\n",
    "\n",
    "\n",
    "import keras\n",
    "import matplotlib.pyplot as plt\n",
    "from keras import backend as K\n",
    "from keras.models import Sequential\n",
    "from keras.layers import Dense, Conv1D, Flatten, MaxPool1D\n",
    "from keras.optimizers import Adam,SGD,Adagrad,Adadelta,RMSprop\n",
    "from tensorflow.keras.callbacks import EarlyStopping\n",
    "from keras.utils import to_categorical\n",
    "# from tf.keras import load_model\n",
    "\n",
    "from keras.callbacks import ModelCheckpoint\n",
    "from sklearn.model_selection import train_test_split"
   ]
  },
  {
   "cell_type": "code",
   "execution_count": 0,
   "metadata": {
    "colab": {},
    "colab_type": "code",
    "id": "uun-iMjj6YXJ"
   },
   "outputs": [],
   "source": [
    "df_test=pd.read_csv('Test_gisaid_LS.csv')\n",
    "df_train=pd.read_csv('Train_gisaid_LS.csv')"
   ]
  },
  {
   "cell_type": "code",
   "execution_count": 0,
   "metadata": {
    "colab": {
     "base_uri": "https://localhost:8080/",
     "height": 35
    },
    "colab_type": "code",
    "id": "v81XarsK6teh",
    "outputId": "42a30896-d953-4f9c-a422-dfb4f0dc6adf"
   },
   "outputs": [
    {
     "name": "stdout",
     "output_type": "stream",
     "text": [
      "8110\n"
     ]
    }
   ],
   "source": [
    "train_sequences=list(df_train[\"Sequence\"])\n",
    "print(len(train_sequences))\n",
    "y_indicator=list(df_train[\"Indicator\"])"
   ]
  },
  {
   "cell_type": "code",
   "execution_count": 0,
   "metadata": {
    "colab": {},
    "colab_type": "code",
    "id": "a6i6FdaR6xRl"
   },
   "outputs": [],
   "source": [
    "K_MER_LENGTH = 3\n",
    "NUMBER_OF_K_MERS=np.power(4,K_MER_LENGTH)"
   ]
  },
  {
   "cell_type": "code",
   "execution_count": 0,
   "metadata": {
    "colab": {},
    "colab_type": "code",
    "id": "cKaei3nt6008"
   },
   "outputs": [],
   "source": [
    "def get_motifs(length,seq):\n",
    "    (d,index) = ({}, 0)\n",
    "    permitted_list = ['A','C','G','T']\n",
    "    seq_k_mer_list = []\n",
    "    for i in range(0, len(seq)-length+1):\n",
    "        flag=0\n",
    "        word = seq[i:i+length]\n",
    "        for letter in word:\n",
    "            if letter not in permitted_list:\n",
    "                flag=1\n",
    "        if(flag == 1):\n",
    "            continue\n",
    "        seq_k_mer_list.append(word)\n",
    "        \n",
    "        # all_sequences_k_mer.append(seq_k_mer_list)\n",
    "    return seq_k_mer_list\n",
    "\n",
    "\n",
    "\n",
    "def get_motifs_V2(length):\n",
    "    lst = ['A','C','G','T','N']\n",
    "    # els = [list(x) for x in itertools.combinations(lst, length)]\n",
    "    els =  list(itertools.product(lst,repeat = length))\n",
    "    els = [' '.join(tups) for tups in els]\n",
    "    return els \n",
    "\n",
    "\n",
    "def get_all_combs(seq,power):\n",
    "  ret_comb=[]\n",
    "  c1=combinations_with_replacement(seq,power)\n",
    "  for c in c1:\n",
    "    p=permutations(c,power)\n",
    "    new_list=[]\n",
    "    lst=list(p)\n",
    "    for tup in lst:\n",
    "      str_new =  ''.join(tup) \n",
    "      new_list.append(str_new)\n",
    "    unique_list=np.unique(new_list)\n",
    "    for u in unique_list:\n",
    "      ret_comb.append(u)\n",
    "  return ret_comb"
   ]
  },
  {
   "cell_type": "code",
   "execution_count": 0,
   "metadata": {
    "colab": {
     "base_uri": "https://localhost:8080/",
     "height": 35
    },
    "colab_type": "code",
    "id": "rH4_-Iyh62Qb",
    "outputId": "ef7c202e-29bd-47a3-b6a2-22edf77a26e2"
   },
   "outputs": [
    {
     "name": "stdout",
     "output_type": "stream",
     "text": [
      "30112\n"
     ]
    }
   ],
   "source": [
    "length_max=0\n",
    "for i in range(0,len(train_sequences)):\n",
    "  k_mer_list=get_motifs(K_MER_LENGTH,train_sequences[i])\n",
    "  if len(k_mer_list)>length_max:\n",
    "    length_max=len(k_mer_list)\n",
    "print(length_max)\n",
    "MAX_LEN=length_max\n",
    "\n"
   ]
  },
  {
   "cell_type": "code",
   "execution_count": 0,
   "metadata": {
    "colab": {
     "base_uri": "https://localhost:8080/",
     "height": 55
    },
    "colab_type": "code",
    "id": "VQLPZ74t7G_O",
    "outputId": "d3054f0c-faf4-4e39-fb6a-2c30c26602be"
   },
   "outputs": [
    {
     "name": "stdout",
     "output_type": "stream",
     "text": [
      "{'AAA': 0, 'AAT': 1, 'ATA': 2, 'TAA': 3, 'AAC': 4, 'ACA': 5, 'CAA': 6, 'AAG': 7, 'AGA': 8, 'GAA': 9, 'ATT': 10, 'TAT': 11, 'TTA': 12, 'ACT': 13, 'ATC': 14, 'CAT': 15, 'CTA': 16, 'TAC': 17, 'TCA': 18, 'AGT': 19, 'ATG': 20, 'GAT': 21, 'GTA': 22, 'TAG': 23, 'TGA': 24, 'ACC': 25, 'CAC': 26, 'CCA': 27, 'ACG': 28, 'AGC': 29, 'CAG': 30, 'CGA': 31, 'GAC': 32, 'GCA': 33, 'AGG': 34, 'GAG': 35, 'GGA': 36, 'TTT': 37, 'CTT': 38, 'TCT': 39, 'TTC': 40, 'GTT': 41, 'TGT': 42, 'TTG': 43, 'CCT': 44, 'CTC': 45, 'TCC': 46, 'CGT': 47, 'CTG': 48, 'GCT': 49, 'GTC': 50, 'TCG': 51, 'TGC': 52, 'GGT': 53, 'GTG': 54, 'TGG': 55, 'CCC': 56, 'CCG': 57, 'CGC': 58, 'GCC': 59, 'CGG': 60, 'GCG': 61, 'GGC': 62, 'GGG': 63}\n"
     ]
    }
   ],
   "source": [
    "all_combination_list=get_all_combs('ATCG',K_MER_LENGTH)\n",
    "all_comb_dict={}\n",
    "for i in range(0,len(all_combination_list)):\n",
    "  all_comb_dict[all_combination_list[i]]=i\n",
    "print(all_comb_dict)\n"
   ]
  },
  {
   "cell_type": "code",
   "execution_count": 0,
   "metadata": {
    "colab": {},
    "colab_type": "code",
    "id": "JXXCe8_s7KEA"
   },
   "outputs": [],
   "source": [
    "def sequence_generator(all_seq_list,max_len, all_comb_dict,bs, y_vals):\n",
    "  num=0\n",
    "  while True:\n",
    "    sequences_2D_Mats=[]\n",
    "    indicators=[]\n",
    "    while len(indicators)<bs:\n",
    "      sequence=all_seq_list[num]      \n",
    "      sequence_k_mers=get_motifs(K_MER_LENGTH,sequence)\n",
    "      #print(len(sequence_k_mers))\n",
    "      Mat_2D=np.zeros((NUMBER_OF_K_MERS,max_len))\n",
    "      for col_val in range(0,len(sequence_k_mers)):\n",
    "        k_mer=sequence_k_mers[col_val]\n",
    "        row_value=all_comb_dict[k_mer]\n",
    "        Mat_2D[row_value,col_val]=1\n",
    "      sequences_2D_Mats.append(Mat_2D)\n",
    "      indicators.append(y_vals[num])\n",
    "      num+=1\n",
    "      if num==len(all_seq_list):\n",
    "        print(num)\n",
    "        num=0\n",
    "\n",
    "    yield np.array(sequences_2D_Mats)\n",
    "    \n",
    "      "
   ]
  },
  {
   "cell_type": "code",
   "execution_count": 0,
   "metadata": {
    "colab": {},
    "colab_type": "code",
    "id": "YyCzzonE7Zdk"
   },
   "outputs": [],
   "source": [
    "BS = 1\n",
    "\n",
    "\n",
    "LOSS_FN = 'binary_crossentropy'  \n",
    "LEARNING_RATE = 0.000001   # 0.0001, 0.00005, 0.00003\n"
   ]
  },
  {
   "cell_type": "code",
   "execution_count": 0,
   "metadata": {
    "colab": {},
    "colab_type": "code",
    "id": "m9bQq0Q77bg_"
   },
   "outputs": [],
   "source": [
    "model=tf.keras.models.load_model(\"best_model_3_AlexNet_BS_10_E_135.h5\")\n",
    "#model=tf.keras.models.load_model(\"best_model_4_AlexNet_BS_10_E_100.h5\")\n",
    "#model=tf.keras.models.load_model(\"best_model_5_AlexNet_BS_10_E_100.h5\")"
   ]
  },
  {
   "cell_type": "code",
   "execution_count": 0,
   "metadata": {
    "colab": {},
    "colab_type": "code",
    "id": "-mRdLAmL7env"
   },
   "outputs": [],
   "source": [
    "test_sequences=list(df_test[\"Sequence\"])\n",
    "y_indicator_test=list(df_test[\"Indicator\"])"
   ]
  },
  {
   "cell_type": "code",
   "execution_count": 0,
   "metadata": {
    "colab": {
     "base_uri": "https://localhost:8080/",
     "height": 54
    },
    "colab_type": "code",
    "id": "jgT1xW4M783b",
    "outputId": "640f1c05-9b43-4d6f-cff8-2d62ec21fb2a"
   },
   "outputs": [
    {
     "name": "stdout",
     "output_type": "stream",
     "text": [
      "1256\n",
      "30127\n"
     ]
    }
   ],
   "source": [
    "new_test_sequence_list=[]\n",
    "new_y_ind_list=[]\n",
    "for i in range(0,len(test_sequences)):\n",
    "    k_mer_list=get_motifs(K_MER_LENGTH,test_sequences[i])\n",
    "    if len(k_mer_list)<=MAX_LEN:\n",
    "        new_test_sequence_list.append(test_sequences[i])\n",
    "        new_y_ind_list.append(y_indicator_test[i])\n",
    "    else:\n",
    "        print(i)\n",
    "        print(len(k_mer_list))"
   ]
  },
  {
   "cell_type": "code",
   "execution_count": 0,
   "metadata": {
    "colab": {
     "base_uri": "https://localhost:8080/",
     "height": 35
    },
    "colab_type": "code",
    "id": "n-zaWs-E7_Mw",
    "outputId": "b2e92d21-fd7b-4126-bcc7-20fcaaac00b5"
   },
   "outputs": [
    {
     "name": "stdout",
     "output_type": "stream",
     "text": [
      "2068\n"
     ]
    }
   ],
   "source": [
    "X_test=np.array(new_test_sequence_list)\n",
    "y_test=np.array(new_y_ind_list)\n",
    "num_test=len(new_test_sequence_list)\n",
    "print(num_test)"
   ]
  },
  {
   "cell_type": "code",
   "execution_count": 0,
   "metadata": {
    "colab": {
     "base_uri": "https://localhost:8080/",
     "height": 110
    },
    "colab_type": "code",
    "id": "1A8o7tC88CJV",
    "outputId": "4caa9b57-5baf-4a28-adb9-e51337ce7fea"
   },
   "outputs": [
    {
     "name": "stdout",
     "output_type": "stream",
     "text": [
      "WARNING:tensorflow:From <ipython-input-14-1d2a768c0ebf>:2: Model.predict_generator (from tensorflow.python.keras.engine.training) is deprecated and will be removed in a future version.\n",
      "Instructions for updating:\n",
      "Please use Model.predict, which supports generators.\n",
      "2068\n"
     ]
    }
   ],
   "source": [
    "testGen = sequence_generator(X_test,MAX_LEN, all_comb_dict,BS,y_test)\n",
    "y_pred = model.predict_generator(testGen,steps=num_test//BS)"
   ]
  },
  {
   "cell_type": "code",
   "execution_count": 0,
   "metadata": {
    "colab": {
     "base_uri": "https://localhost:8080/",
     "height": 35
    },
    "colab_type": "code",
    "id": "w7pWYTNe8F2V",
    "outputId": "9629e367-8ad6-4d40-8c27-812a66fd2331"
   },
   "outputs": [
    {
     "name": "stdout",
     "output_type": "stream",
     "text": [
      "(2068, 1)\n"
     ]
    }
   ],
   "source": [
    "y_test=y_test[:y_pred.shape[0]]\n",
    "y_test=y_test.reshape(y_test.shape[0],1)\n",
    "print(y_test.shape)"
   ]
  },
  {
   "cell_type": "code",
   "execution_count": 0,
   "metadata": {
    "colab": {
     "base_uri": "https://localhost:8080/",
     "height": 54
    },
    "colab_type": "code",
    "id": "XmJCtC8d8JGu",
    "outputId": "ebacfdbc-5842-4c4e-a613-678112b3a0ff"
   },
   "outputs": [
    {
     "name": "stdout",
     "output_type": "stream",
     "text": [
      "(2068, 1)\n",
      "(2068, 1)\n"
     ]
    }
   ],
   "source": [
    "y_pred_before_rounding=y_pred\n",
    "y_pred=np.round(y_pred)\n",
    "print(y_pred.shape)"
   ]
  },
  {
   "cell_type": "code",
   "execution_count": 0,
   "metadata": {
    "colab": {
     "base_uri": "https://localhost:8080/",
     "height": 126
    },
    "colab_type": "code",
    "id": "WBfBBvTD8LuC",
    "outputId": "1a1a7632-c3bc-4d5c-8987-825ecc053b71"
   },
   "outputs": [
    {
     "name": "stdout",
     "output_type": "stream",
     "text": [
      "fp,fn,tp,tn:130,131,1056,751\n",
      "1807\n",
      "Accuracy: 87.37911025145068\n",
      "precision: 0.8903878583473862\n",
      "recall: 0.8896377422072451\n",
      "f1_score: 0.8900126422250316\n"
     ]
    }
   ],
   "source": [
    "match=0\n",
    "fn=0\n",
    "fp=0\n",
    "tp=0\n",
    "tn=0\n",
    "for i in range(y_pred.shape[0]):    \n",
    "  if(y_pred[i]==y_test[i]):\n",
    "    match+=1\n",
    "    if (y_test[i]==1.0 and y_pred[i]==1.0):\n",
    "      tp+=1\n",
    "    elif (y_test[i]==0.0 and y_pred[i]==0.0):\n",
    "      tn+=1\n",
    "  elif (y_test[i]==0.0 and y_pred[i]==1.0):\n",
    "    fp+=1\n",
    "  elif (y_test[i]==1.0 and y_pred[i]==0.0):\n",
    "    fn+=1\n",
    "\n",
    "print(\"fp,fn,tp,tn:\"+str(fp)+\",\"+str(fn)+\",\"+str(tp)+\",\"+str(tn))\n",
    "print(match)\n",
    "acc=match*100.0/y_pred.shape[0]\n",
    "precision=tp*1.0/(tp+fp)\n",
    "recall=tp*1.0/(tp+fn)\n",
    "f1_score=(2*recall*precision)/(recall+precision)\n",
    "print(\"Accuracy: \"+str(acc))\n",
    "print(\"precision: \"+str(precision))\n",
    "print(\"recall: \"+str(recall))\n",
    "print(\"f1_score: \"+str(f1_score))"
   ]
  },
  {
   "cell_type": "code",
   "execution_count": null,
   "metadata": {},
   "outputs": [],
   "source": [
    "import matplotlib as mpl\n",
    "import matplotlib.pyplot as plt\n",
    "from sklearn.metrics import roc_curve\n",
    "from sklearn.metrics import auc\n",
    "\n",
    "\n",
    "fpr, tpr, thresholds_keras = roc_curve(y_test, y_pred_before_rounding)\n",
    "_auc_ = auc(fpr, tpr)\n",
    "\n",
    "plt.figure(1)\n",
    "plt.plot([0, 1], [0, 1], 'k--')\n",
    "plt.plot(fpr, tpr, label='ROC-One-Hot-k-'+str(K_MER_LENGTH)+' (area = {:.3f})'.format(_auc_))\n",
    "plt.xlabel('False positive rate')\n",
    "plt.ylabel('True positive rate')\n",
    "plt.title('ROC curve')\n",
    "plt.legend(loc='best')\n",
    "plt.savefig('ROC_One_hot_k_'+str(K_MER_LENGTH)+'.png')\n",
    "plt.show()\n",
    "\n",
    "\n"
   ]
  }
 ],
 "metadata": {
  "colab": {
   "collapsed_sections": [],
   "name": "ArpitaTest.ipynb",
   "provenance": []
  },
  "kernelspec": {
   "display_name": "Python 2",
   "language": "python",
   "name": "python2"
  },
  "language_info": {
   "codemirror_mode": {
    "name": "ipython",
    "version": 2
   },
   "file_extension": ".py",
   "mimetype": "text/x-python",
   "name": "python",
   "nbconvert_exporter": "python",
   "pygments_lexer": "ipython2",
   "version": "2.7.17"
  }
 },
 "nbformat": 4,
 "nbformat_minor": 1
}
